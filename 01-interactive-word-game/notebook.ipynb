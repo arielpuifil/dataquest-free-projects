{
 "cells": [
  {
   "cell_type": "markdown",
   "id": "b68862cc",
   "metadata": {},
   "source": [
    "# Word Raider"
   ]
  },
  {
   "cell_type": "markdown",
   "id": "04ece8af",
   "metadata": {},
   "source": [
    "### Interactive Word Game"
   ]
  },
  {
   "cell_type": "markdown",
   "id": "f1773c33",
   "metadata": {},
   "source": [
    "We start by importing the `random` library to use later on."
   ]
  },
  {
   "cell_type": "code",
   "execution_count": 9,
   "id": "cfb3f459",
   "metadata": {},
   "outputs": [],
   "source": [
    "import random"
   ]
  },
  {
   "cell_type": "markdown",
   "id": "3a4ba4c9",
   "metadata": {},
   "source": [
    "Define initial variables"
   ]
  },
  {
   "cell_type": "code",
   "execution_count": 10,
   "id": "13627bb9",
   "metadata": {},
   "outputs": [],
   "source": [
    "game_title = \"Word Raider\""
   ]
  },
  {
   "cell_type": "code",
   "execution_count": 11,
   "id": "df6256b2",
   "metadata": {},
   "outputs": [],
   "source": [
    "# Set up the list of words to choose from\n",
    "word_bank = []"
   ]
  },
  {
   "cell_type": "markdown",
   "id": "1fb551cb",
   "metadata": {},
   "source": [
    "Open file for loading in the word bank"
   ]
  },
  {
   "cell_type": "code",
   "execution_count": 12,
   "id": "aa2eca9e",
   "metadata": {},
   "outputs": [],
   "source": [
    "with open(\"words.txt\") as word_file:\n",
    "  for line in word_file:\n",
    "    word_bank.append(line.rstrip().lower())"
   ]
  },
  {
   "cell_type": "markdown",
   "id": "236faa12",
   "metadata": {},
   "source": [
    "Select the word to guess"
   ]
  },
  {
   "cell_type": "code",
   "execution_count": 13,
   "id": "65afd380",
   "metadata": {},
   "outputs": [],
   "source": [
    "# Pick a random word from the list\n",
    "word_to_guess = random.choice(word_bank)"
   ]
  },
  {
   "cell_type": "markdown",
   "id": "321d26c5",
   "metadata": {},
   "source": [
    "Define the remaining game variables"
   ]
  },
  {
   "cell_type": "code",
   "execution_count": 14,
   "id": "622870d0",
   "metadata": {},
   "outputs": [],
   "source": [
    "# Set up the game variables\n",
    "misplaced_guesses = []\n",
    "incorrect_guesses = []\n",
    "max_turns = 5\n",
    "turns_taken = 0"
   ]
  },
  {
   "cell_type": "markdown",
   "id": "11e9aa29",
   "metadata": {},
   "source": [
    "Print the current game state"
   ]
  },
  {
   "cell_type": "code",
   "execution_count": 15,
   "id": "43d0d341",
   "metadata": {},
   "outputs": [
    {
     "name": "stdout",
     "output_type": "stream",
     "text": [
      "Welcome to Word Raider\n",
      "The word has 5 letters.\n",
      "You have 5 turns left.\n"
     ]
    }
   ],
   "source": [
    "# Display the initial game state\n",
    "print(\"Welcome to\", game_title)\n",
    "print(\"The word has\", len(word_to_guess), \"letters.\")\n",
    "print(\"You have\", max_turns - turns_taken, \"turns left.\")"
   ]
  },
  {
   "cell_type": "markdown",
   "id": "f34944fb",
   "metadata": {},
   "source": [
    "Build the game loop"
   ]
  },
  {
   "cell_type": "code",
   "execution_count": 16,
   "id": "b37863be",
   "metadata": {},
   "outputs": [
    {
     "name": "stdout",
     "output_type": "stream",
     "text": [
      "_ _ _ _ _ \n",
      "\n",
      "Misplaced letters:  ['e']\n",
      "Incorrect letters:  ['q', 'u', 'n']\n",
      "You have 4 turns left.\n",
      "_ e _ _ _ \n",
      "\n",
      "Misplaced letters:  ['a', 'r']\n",
      "Incorrect letters:  ['q', 'u', 'n', 'l']\n",
      "You have 3 turns left.\n",
      "_ e _ _ _ \n",
      "\n",
      "Misplaced letters:  ['a', 'r', 's']\n",
      "Incorrect letters:  ['q', 'u', 'n', 'l', 'h', 'p']\n",
      "You have 2 turns left.\n",
      "b _ _ _ _ \n",
      "\n",
      "Misplaced letters:  ['a', 'r', 's', 'e']\n",
      "Incorrect letters:  ['q', 'u', 'n', 'l', 'h', 'p']\n",
      "Congratulations, you win!\n"
     ]
    }
   ],
   "source": [
    "while turns_taken < max_turns:\n",
    "  # Get the player's guess\n",
    "  guess = input(\"Guess a word: \").lower()\n",
    "\n",
    "  # Check if the guess length equals 5 letters and is all alpha letters\n",
    "  if len(guess) != len(word_to_guess) or not guess.isalpha():\n",
    "    print(\"Please enter 5-letter word.\")\n",
    "    continue\n",
    "  \n",
    "  # Check each letter in the guess against the word's letters\n",
    "  index = 0\n",
    "  for c in guess:\n",
    "    if c == word_to_guess[index]:\n",
    "      print(c, end=\" \")\n",
    "      if c in misplaced_guesses:\n",
    "        misplaced_guesses.remove(c)\n",
    "    elif c in word_to_guess:\n",
    "      if c not in misplaced_guesses:\n",
    "        misplaced_guesses.append(c)\n",
    "      print(\"_\", end=\" \")\n",
    "    else:\n",
    "      if c not in incorrect_guesses:\n",
    "        incorrect_guesses.append(c)\n",
    "      print(\"_\", end=\" \")\n",
    "      index += 1 \n",
    "\n",
    "  print(\"\\n\")\n",
    "  print(\"Misplaced letters: \", misplaced_guesses)\n",
    "  print(\"Incorrect letters: \", incorrect_guesses)\n",
    "  turns_taken += 1\n",
    "\n",
    "  # Check if the player has won\n",
    "  if guess == word_to_guess:\n",
    "    print(\"Congratulations, you win!\")\n",
    "    break\n",
    "  \n",
    "  # Check if the player has lost\n",
    "  if turns_taken == max_turns:\n",
    "    print(\"Sorry, you lost. The word was\", word_to_guess)\n",
    "    break\n",
    "  \n",
    "  # Display the number of turns left and ask for another guess\n",
    "  print(\"You have\", max_turns - turns_taken, \"turns left.\")"
   ]
  }
 ],
 "metadata": {
  "kernelspec": {
   "display_name": ".venv",
   "language": "python",
   "name": "python3"
  },
  "language_info": {
   "codemirror_mode": {
    "name": "ipython",
    "version": 3
   },
   "file_extension": ".py",
   "mimetype": "text/x-python",
   "name": "python",
   "nbconvert_exporter": "python",
   "pygments_lexer": "ipython3",
   "version": "3.13.7"
  }
 },
 "nbformat": 4,
 "nbformat_minor": 5
}
